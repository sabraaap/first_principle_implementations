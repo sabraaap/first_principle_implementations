{
 "cells": [
  {
   "cell_type": "code",
   "execution_count": null,
   "metadata": {},
   "outputs": [],
   "source": [
    "import math\n",
    "from sklearn import datasets, naive_bayes\n",
    "import numpy as np\n",
    "import scipy.stats as stats"
   ]
  },
  {
   "cell_type": "code",
   "execution_count": 4,
   "metadata": {},
   "outputs": [
    {
     "name": "stdout",
     "output_type": "stream",
     "text": [
      "[0 1 2 2 2 0 0 0 1 2 1 0 1 1 1 0 1 1 0 1 0 2 0 1 2 2 2 2 0 0 2 2 1 1 0 1 1\n",
      " 1 2 1 0 2 1 0 2 1 0 1 1 1 0 1 1 0 1 0 2 1 2]\n"
     ]
    }
   ],
   "source": [
    "np.random.seed(1345)\n",
    "\n",
    "# Load the wine dataset (description here http://scikit-learn.org/stable/datasets/index.html#diabetes-dataset)\n",
    "wine = datasets.load_wine()\n",
    "data = wine.data.copy()\n",
    "target = wine.target.copy()\n",
    "\n",
    "# Split the data into train/test sets\n",
    "total_samples = wine.target.shape[0]\n",
    "exclude = round(total_samples/3)\n",
    "indices = np.arange(0,total_samples)\n",
    "np.random.shuffle(indices)\n",
    "\n",
    "idx_train = indices[:-exclude]\n",
    "idx_test = indices[-exclude:]\n",
    "\n",
    "assert not np.intersect1d( idx_test, idx_train ).size\n",
    "\n",
    "X_train = data[idx_train]\n",
    "X_test = data[idx_test]\n",
    "\n",
    "# Split the targets into training/testing sets\n",
    "y_train = target[idx_train]\n",
    "y_test = target[idx_test]\n"
   ]
  },
  {
   "cell_type": "code",
   "execution_count": 52,
   "metadata": {},
   "outputs": [
    {
     "name": "stdout",
     "output_type": "stream",
     "text": [
      "[1 0 0 0 0 1 1 1 0 0 0 0 0 0 0 1 0 0 1 0 1 0 1 0 0 0 0 0 1 1 0 0 0 0 1 0 0\n",
      " 0 0 0 1 0 0 1 0 0 0 0 0 0 1 0 1 1 0 1 0 0 0]\n",
      "[[40  1]\n",
      " [ 2 16]]\n",
      "accuracy: 0.95\n"
     ]
    }
   ],
   "source": [
    "class GaussianNB:\n",
    "    def __init__(self):\n",
    "        self.classes = []\n",
    "        self.features = 0\n",
    "        self.observations = 0\n",
    "\n",
    "        self.class_means = dict()\n",
    "        self.class_stds = dict()\n",
    "        self.class_prior_probs = dict()\n",
    "        self.class_likelihoods = dict()\n",
    "        self.class_posterior_probs = []\n",
    "\n",
    "        self.predictions = []\n",
    "                \n",
    "    def fit(self, X_train, y_train):\n",
    "        self.classes = np.unique(y_train).astype(int)\n",
    "        self.features = X_train.shape[1]\n",
    "        self.observations = X_train.shape[0]\n",
    "\n",
    "        # train model for each class\n",
    "        for c in self.classes:\n",
    "            # Calculate Prior Probabilities\n",
    "            self.class_prior_probs[c] = np.sum(y_train==c) / self.observations\n",
    "\n",
    "            # Train a Gaussian model of the likelihood P(Feature Value|Class) by calculating the \n",
    "            # means and std's of each feature for each of the classes \n",
    "            self.class_means[c] = X_train[y_train==c].mean(0) \n",
    "            self.class_stds[c] = X_train[y_train==c].std(0)\n",
    "\n",
    "        \n",
    "    def predict(self, X_test):\n",
    "        for c in self.classes:\n",
    "            # Evaluate likelihoods of test data\n",
    "            likelihood = 1\n",
    "            for feature in range(self.features):\n",
    "                likelihood = likelihood * stats.norm.pdf(X_test[:,feature], self.class_means[c][feature], self.class_stds[c][feature])\n",
    "            self.class_likelihoods[c] = likelihood\n",
    "        \n",
    "            # Approximate the posterior probabilities - P(X|Y)*P(Y)\n",
    "            self.class_posterior_probs.append(self.class_prior_probs[c]*self.class_likelihoods[c])\n",
    "        \n",
    "        # Predict the class by selecting the class with the maximum posterior probability\n",
    "        self.predictions = np.argmax(self.class_posterior_probs,0)\n",
    "        print(np.argmax(self.class_posterior_probs,0))\n",
    "        \n",
    "        return self.predictions\n",
    "  \n",
    "\n",
    "gaussian_nb = GaussianNB()\n",
    "gaussian_nb.fit(X_train, y_train_bin)\n",
    "y_pred_bin = gaussian_nb.predict(X_test)\n",
    "\n",
    "# Evaluate model performance\n",
    "print(metrics.confusion_matrix(y_test_bin, y_pred_bin))\n",
    "print(\"accuracy: %.2f\" % metrics.accuracy_score(y_test, y_pred))"
   ]
  },
  {
   "cell_type": "code",
   "execution_count": 5,
   "metadata": {},
   "outputs": [
    {
     "data": {
      "image/png": "[encoded data removed]",
      "text/plain": [
       "<Figure size 432x288 with 1 Axes>"
      ]
     },
     "metadata": {
      "needs_background": "light"
     },
     "output_type": "display_data"
    },
    {
     "name": "stdout",
     "output_type": "stream",
     "text": [
      "[[16  2  0]\n",
      " [ 0 24  1]\n",
      " [ 0  0 16]]\n",
      "accuracy: 0.95\n",
      "class 0, precision: 1.00, recall: 0.89,  f-score: 0.94\n",
      "class 1, precision: 0.92, recall: 0.96,  f-score: 0.94\n",
      "class 2, precision: 0.94, recall: 1.00,  f-score: 0.97\n"
     ]
    }
   ],
   "source": [
    "import matplotlib.pyplot as plt\n",
    "import sklearn.metrics as metrics\n",
    "\n",
    "# create a naive Bayes model with Gaussian observations\n",
    "nb = naive_bayes.GaussianNB()\n",
    "\n",
    "# Train using training set\n",
    "nb.fit(X_train, y_train)\n",
    "\n",
    "# Predict using test set\n",
    "y_pred = nb.predict(X_test)\n",
    "\n",
    "# Plot outputs\n",
    "plt.plot(y_test-0.1,'g*')\n",
    "plt.plot(y_pred,'b.')\n",
    "plt.show()\n",
    "\n",
    "# evaluation\n",
    "print(metrics.confusion_matrix(y_test, y_pred))\n",
    "print(\"accuracy: %.2f\" % metrics.accuracy_score(y_test, y_pred))\n",
    "\n",
    "# calculate precision and recall (and f-score, a weighted average of precision and recall) \n",
    "precision,recall,fscore,_ = metrics.precision_recall_fscore_support(y_test,y_pred )\n",
    "for c in np.unique(y_test):\n",
    "        print(\"class %s, precision: %.2f, recall: %.2f,  f-score: %.2f\" % (c, precision[c], recall[c], fscore[c]))\n",
    "\n"
   ]
  }
 ],
 "metadata": {
  "kernelspec": {
   "display_name": "Python 3",
   "language": "python",
   "name": "python3"
  },
  "language_info": {
   "codemirror_mode": {
    "name": "ipython",
    "version": 3
   },
   "file_extension": ".py",
   "mimetype": "text/x-python",
   "name": "python",
   "nbconvert_exporter": "python",
   "pygments_lexer": "ipython3",
   "version": "3.8.1"
  },
  "widgets": {
   "state": {},
   "version": "1.1.2"
  }
 },
 "nbformat": 4,
 "nbformat_minor": 2
}