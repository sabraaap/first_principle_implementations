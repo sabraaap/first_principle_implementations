{
 "cells": [
  {
   "cell_type": "code",
   "execution_count": 8,
   "metadata": {},
   "outputs": [
    {
     "name": "stdout",
     "output_type": "stream",
     "text": [
      "Intercept (theta 0): \n",
      " [152.83495859]\n",
      "Coefficients (theta 1): \n",
      " [[952.9063637]]\n",
      "Mean squared error: 3938.97\n"
     ]
    },
    {
     "data": {
      "image/png": "[encoded data removed]",
      "text/plain": [
       "<Figure size 432x288 with 1 Axes>"
      ]
     },
     "metadata": {
      "needs_background": "light"
     },
     "output_type": "display_data"
    }
   ],
   "source": [
    "import numpy as np\n",
    "import matplotlib.pyplot as plt\n",
    "from sklearn import datasets, linear_model\n",
    "from sklearn.metrics import mean_squared_error, r2_score\n",
    "\n",
    "# Load the diabetes dataset\n",
    "diabetes = datasets.load_diabetes()\n",
    "\n",
    "# Select 10% for testing, 90% for training\n",
    "data_len = len(diabetes.target)\n",
    "n_test_samples = int(np.rint(0.1*data_len))\n",
    "n_train_samples = int(np.rint(0.9*data_len))\n",
    "idx_test = np.arange(0, n_test_samples)\n",
    "idx_train = np.arange(n_test_samples, data_len)\n",
    "\n",
    "# extract the bmi feature\n",
    "X_test = diabetes.data[idx_test,np.newaxis,2]\n",
    "X_train = diabetes.data[idx_train,np.newaxis,2]\n",
    "y_test = diabetes.target[idx_test,np.newaxis]\n",
    "y_train = diabetes.target[idx_train,np.newaxis]"
   ]
  },
  {
   "cell_type": "code",
   "execution_count": 9,
   "metadata": {},
   "outputs": [],
   "source": [
    "def h_lin(X, theta):\n",
    "    h = np.array([theta[0] + theta[1]*value for value in X])                                                                                           \n",
    "    return h"
   ]
  },
  {
   "cell_type": "code",
   "execution_count": 4,
   "metadata": {},
   "outputs": [
    {
     "name": "stdout",
     "output_type": "stream",
     "text": [
      "1946.8770201779544\n"
     ]
    }
   ],
   "source": [
    "def loss_L2(h, y):\n",
    "    m = len(y)\n",
    "    squared_errors_sum = sum(np.square(h - y))\n",
    "    mean_squared_error = (1/(2*m)) * squared_errors_sum   \n",
    "    \n",
    "    return mean_squared_error[0]"
   ]
  },
  {
   "cell_type": "code",
   "execution_count": 11,
   "metadata": {},
   "outputs": [
    {
     "data": {
      "text/plain": [
       "array([[-5.28327468e+01],\n",
       "       [-1.12995982e-02]])"
      ]
     },
     "execution_count": 11,
     "metadata": {},
     "output_type": "execute_result"
    }
   ],
   "source": [
    "# Calculate coefficient gradients (partial derivatives)\n",
    "def gradient_batch(theta, X, y):\n",
    "    m = len(y)\n",
    "    theta = np.array(theta)\n",
    "    grad_0 = 1/m * sum(theta[0]+theta[1]*X-y)\n",
    "    grad_1 = 1/m * sum((theta[0]+theta[1]*X-y)*X)\n",
    "    grad = np.array([grad_0,grad_1])\n",
    "    \n",
    "    return grad"
   ]
  },
  {
   "cell_type": "code",
   "execution_count": 12,
   "metadata": {},
   "outputs": [
    {
     "name": "stdout",
     "output_type": "stream",
     "text": [
      "GD stopped at loss 1974.029562125493, with coefficients: [[152.90686506]\n",
      " [787.69134875]]\n"
     ]
    }
   ],
   "source": [
    "loss_stop_threshold = 0.1\n",
    "alpha = 0.7\n",
    "\n",
    "# set initial theta values (at random point)\n",
    "theta = np.array([100, 2])\n",
    "theta = theta[:, np.newaxis]\n",
    "\n",
    "def batch_gd( X, y, old_theta, alpha, loss_stop_threshold):\n",
    "    \"\"\"Batch gradient descent training for linear function with a single variable\n",
    "    \"\"\"\n",
    "\n",
    "    theta = old_theta.copy()\n",
    "    \n",
    "    # Calculate initial loss value\n",
    "    loss = loss_L2(h_lin(X,theta), y)\n",
    "    \n",
    "    # Update rule\n",
    "    new_theta = theta - alpha*gradient_batch(theta, X_train, y_train)\n",
    "    new_loss = loss_L2(h_lin(X,new_theta), y)\n",
    "\n",
    "    # Repeat update until convergence\n",
    "    while abs(new_loss - loss) >= loss_stop_threshold:\n",
    "        theta = batch_gd(X, y, new_theta, alpha, loss_stop_threshold)\n",
    "        return theta\n",
    "        \n",
    "    print(f'Gradient descent algorithm stopped at loss {loss}, with coefficients: {theta}')\n",
    "    return theta\n",
    "        \n",
    "theta = batch_gd(X_train, y_train, theta, alpha, loss_stop_threshold)"
   ]
  },
  {
   "cell_type": "code",
   "execution_count": 7,
   "metadata": {},
   "outputs": [
    {
     "name": "stdout",
     "output_type": "stream",
     "text": [
      "Intercept (theta 0): \n",
      " [152.90686506]\n",
      "Coefficients (theta 1): \n",
      " [787.69134875]\n",
      "Mean squared error: 3969.99\n"
     ]
    },
    {
     "data": {
      "image/png": "[encoded data removed]",
      "text/plain": [
       "<Figure size 432x288 with 1 Axes>"
      ]
     },
     "metadata": {
      "needs_background": "light"
     },
     "output_type": "display_data"
    }
   ],
   "source": [
    "y_pred = h_lin(X_test, theta)\n",
    "\n",
    "# The coefficients\n",
    "print('Intercept (theta 0): \\n', theta[0])\n",
    "print('Coefficients (theta 1): \\n', theta[1])\n",
    "\n",
    "# The mean squared error\n",
    "print(\"Mean squared error: %.2f\" % mean_squared_error(y_test, y_pred))\n",
    "\n",
    "# Plot outputs using test data\n",
    "plt.scatter(X_test, y_test,  color='black')\n",
    "plt.plot(X_test, y_pred, color='blue', linewidth=3)\n",
    "plt.show()"
   ]
  },
  {
   "cell_type": "code",
   "execution_count": null,
   "metadata": {},
   "outputs": [],
   "source": [
    "# For comparison purposes, create linear regression object\n",
    "regr = linear_model.LinearRegression()\n",
    "\n",
    "# Train the model using the training sets\n",
    "regr.fit(X_train, y_train)\n",
    "\n",
    "# Make predictions using the testing set\n",
    "y_pred = regr.predict(X_test)\n",
    "\n",
    "# The coefficients\n",
    "print('Intercept (theta 0): \\n', regr.intercept_)\n",
    "print('Coefficients (theta 1): \\n', regr.coef_)\n",
    "\n",
    "# The mean squared error\n",
    "print(\"Mean squared error: %.2f\" % mean_squared_error(y_test, y_pred))\n",
    "\n",
    "# Plot outputs\n",
    "plt.scatter(X_test, y_test,  color='black')\n",
    "plt.plot(X_test, y_pred, color='blue', linewidth=3)\n",
    "\n",
    "plt.show()"
   ]
  }
 ],
 "metadata": {
  "kernelspec": {
   "display_name": "Python 3",
   "language": "python",
   "name": "python3"
  },
  "language_info": {
   "codemirror_mode": {
    "name": "ipython",
    "version": 3
   },
   "file_extension": ".py",
   "mimetype": "text/x-python",
   "name": "python",
   "nbconvert_exporter": "python",
   "pygments_lexer": "ipython3",
   "version": "3.8.1"
  }
 },
 "nbformat": 4,
 "nbformat_minor": 2
}